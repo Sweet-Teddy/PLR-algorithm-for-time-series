{
 "cells": [
  {
   "cell_type": "code",
   "execution_count": 1,
   "metadata": {
    "collapsed": true
   },
   "outputs": [],
   "source": [
    "import os\n",
    "import sys\n",
    "sys.path.append(\"..\")"
   ]
  },
  {
   "cell_type": "code",
   "execution_count": 23,
   "metadata": {},
   "outputs": [
    {
     "ename": "ModuleNotFoundError",
     "evalue": "No module named 'saxpy'",
     "output_type": "error",
     "traceback": [
      "\u001b[0;31m---------------------------------------------------------------------------\u001b[0m",
      "\u001b[0;31mModuleNotFoundError\u001b[0m                       Traceback (most recent call last)",
      "\u001b[0;32m<ipython-input-23-f87a1befe57c>\u001b[0m in \u001b[0;36m<module>\u001b[0;34m()\u001b[0m\n\u001b[0;32m----> 1\u001b[0;31m \u001b[0;32mfrom\u001b[0m \u001b[0msaxpy\u001b[0m \u001b[0;32mimport\u001b[0m \u001b[0mpaa\u001b[0m\u001b[0;34m\u001b[0m\u001b[0m\n\u001b[0m",
      "\u001b[0;31mModuleNotFoundError\u001b[0m: No module named 'saxpy'"
     ]
    }
   ],
   "source": [
    "from saxpy import paa"
   ]
  },
  {
   "cell_type": "code",
   "execution_count": 24,
   "metadata": {
    "collapsed": true
   },
   "outputs": [],
   "source": [
    "import numpy as np\n",
    "def paa(series, paa_segments):\n",
    "    \"\"\"PAA implementation.\"\"\"\n",
    "    series_len = len(series)\n",
    "\n",
    "    # check for the trivial case\n",
    "    if (series_len == paa_segments):\n",
    "        return np.copy(series)\n",
    "    else:\n",
    "        res = np.zeros(paa_segments)\n",
    "        if (series_len % paa_segments == 0):\n",
    "            inc = series_len // paa_segments\n",
    "            for i in range(0, series_len):\n",
    "                idx = i // inc\n",
    "                res[idx] = res[idx] + series[i]\n",
    "            return res / inc\n",
    "        else:\n",
    "            for i in range(0, paa_segments * series_len):\n",
    "                idx = i // series_len\n",
    "                pos = i // paa_segments\n",
    "                res[idx] = res[idx] + series[pos]\n",
    "            return res / series_len"
   ]
  },
  {
   "cell_type": "code",
   "execution_count": 11,
   "metadata": {
    "collapsed": true
   },
   "outputs": [],
   "source": [
    "ts = np.array([1, 1, 2, 2, 3, 3])"
   ]
  },
  {
   "cell_type": "code",
   "execution_count": 12,
   "metadata": {},
   "outputs": [
    {
     "data": {
      "text/plain": [
       "array([1, 1, 2, 2, 3, 3])"
      ]
     },
     "execution_count": 12,
     "metadata": {},
     "output_type": "execute_result"
    }
   ],
   "source": [
    "paa(ts, 6)"
   ]
  },
  {
   "cell_type": "code",
   "execution_count": 13,
   "metadata": {},
   "outputs": [
    {
     "data": {
      "text/plain": [
       "array([ 1.,  2.,  3.])"
      ]
     },
     "execution_count": 13,
     "metadata": {},
     "output_type": "execute_result"
    }
   ],
   "source": [
    "paa(ts, 3)"
   ]
  },
  {
   "cell_type": "code",
   "execution_count": 20,
   "metadata": {},
   "outputs": [
    {
     "data": {
      "text/plain": [
       "array([ 1.        ,  1.33333333,  1.66666667,  2.33333333,  2.66666667,  3.        ])"
      ]
     },
     "execution_count": 20,
     "metadata": {},
     "output_type": "execute_result"
    }
   ],
   "source": [
    "paa(paa(ts, 4), 6)"
   ]
  },
  {
   "cell_type": "code",
   "execution_count": 25,
   "metadata": {},
   "outputs": [
    {
     "data": {
      "text/plain": [
       "array([-0.94054407, -0.69562387,  1.1463276 ,  1.638693  ,  0.90645757,\n",
       "        0.48984043, -0.16033437, -0.16033437, -1.00114287, -1.22333867])"
      ]
     },
     "execution_count": 25,
     "metadata": {},
     "output_type": "execute_result"
    }
   ],
   "source": [
    "dat = np.array([-0.9796808, -0.8622706, -0.6123005, 0.8496459, 1.739691,\n",
    "                    1.588194, 1.095829, 0.5277147, 0.4709033, -0.2865819,\n",
    "                    0.0921607, -0.2865819, -0.9039323, -1.195564, -1.237226])\n",
    "\n",
    "paa(dat, 10)"
   ]
  },
  {
   "cell_type": "code",
   "execution_count": 26,
   "metadata": {},
   "outputs": [
    {
     "data": {
      "text/plain": [
       "array([ -3.33333332e-08,  -3.33333333e-08,   4.00000000e-07,\n",
       "        -4.44089210e-16,  -2.66666667e-07,  -3.33333331e-08,\n",
       "        -3.33333333e-08,  -3.33333333e-08,  -1.33333333e-07,\n",
       "        -3.33333333e-07])"
      ]
     },
     "execution_count": 26,
     "metadata": {},
     "output_type": "execute_result"
    }
   ],
   "source": [
    "dat_paa = np.array([-0.9405441, -0.6956239, 1.146328, 1.638693, 0.9064573,\n",
    "                        0.4898404, -0.1603344, -0.1603344, -1.001143,\n",
    "                        -1.223339])\n",
    "dat_paa - paa(dat, 10)"
   ]
  },
  {
   "cell_type": "code",
   "execution_count": 8,
   "metadata": {},
   "outputs": [],
   "source": [
    "import numpy as np\n",
    "def cuts_for_asize(a_size):\n",
    "    \"\"\"Generate a set of alphabet cuts for its size.\"\"\"\n",
    "    options = {\n",
    "        2: np.array([-np.inf,  0.00]),\n",
    "        3: np.array([-np.inf, -0.4307273, 0.4307273]),\n",
    "        4: np.array([-np.inf, -0.6744898, 0, 0.6744898]),\n",
    "        5: np.array([-np.inf, -0.841621233572914, -0.2533471031358,\n",
    "                    0.2533471031358, 0.841621233572914]),\n",
    "        6: np.array([-np.inf, -0.967421566101701, -0.430727299295457, 0,\n",
    "                    0.430727299295457, 0.967421566101701]),\n",
    "        7: np.array([-np.inf, -1.06757052387814, -0.565948821932863,\n",
    "                    -0.180012369792705, 0.180012369792705, 0.565948821932863,\n",
    "                    1.06757052387814]),\n",
    "        8: np.array([-np.inf, -1.15034938037601, -0.674489750196082,\n",
    "                    -0.318639363964375, 0, 0.318639363964375,\n",
    "                    0.674489750196082, 1.15034938037601]),\n",
    "        9: np.array([-np.inf, -1.22064034884735, -0.764709673786387,\n",
    "                    -0.430727299295457, -0.139710298881862, 0.139710298881862,\n",
    "                    0.430727299295457, 0.764709673786387, 1.22064034884735]),\n",
    "        10: np.array([-np.inf, -1.2815515655446, -0.841621233572914,\n",
    "                     -0.524400512708041, -0.2533471031358, 0, 0.2533471031358,\n",
    "                     0.524400512708041, 0.841621233572914, 1.2815515655446]),\n",
    "        11: np.array([-np.inf, -1.33517773611894, -0.908457868537385,\n",
    "                     -0.604585346583237, -0.348755695517045,\n",
    "                     -0.114185294321428, 0.114185294321428, 0.348755695517045,\n",
    "                     0.604585346583237, 0.908457868537385, 1.33517773611894]),\n",
    "        12: np.array([-np.inf, -1.38299412710064, -0.967421566101701,\n",
    "                     -0.674489750196082, -0.430727299295457,\n",
    "                     -0.210428394247925, 0, 0.210428394247925,\n",
    "                     0.430727299295457, 0.674489750196082, 0.967421566101701,\n",
    "                     1.38299412710064]),\n",
    "        13: np.array([-np.inf, -1.42607687227285, -1.0200762327862,\n",
    "                     -0.736315917376129, -0.502402223373355,\n",
    "                     -0.293381232121193, -0.0965586152896391,\n",
    "                     0.0965586152896394, 0.293381232121194, 0.502402223373355,\n",
    "                     0.73631591737613, 1.0200762327862, 1.42607687227285]),\n",
    "        14: np.array([-np.inf, -1.46523379268552, -1.06757052387814,\n",
    "                     -0.791638607743375, -0.565948821932863, -0.36610635680057,\n",
    "                     -0.180012369792705, 0, 0.180012369792705,\n",
    "                     0.36610635680057, 0.565948821932863, 0.791638607743375,\n",
    "                     1.06757052387814, 1.46523379268552]),\n",
    "        15: np.array([-np.inf, -1.50108594604402, -1.11077161663679,\n",
    "                     -0.841621233572914, -0.622925723210088,\n",
    "                     -0.430727299295457, -0.2533471031358, -0.0836517339071291,\n",
    "                     0.0836517339071291, 0.2533471031358, 0.430727299295457,\n",
    "                     0.622925723210088, 0.841621233572914, 1.11077161663679,\n",
    "                     1.50108594604402]),\n",
    "        16: np.array([-np.inf, -1.53412054435255, -1.15034938037601,\n",
    "                     -0.887146559018876, -0.674489750196082,\n",
    "                     -0.488776411114669, -0.318639363964375,\n",
    "                     -0.157310684610171, 0, 0.157310684610171,\n",
    "                     0.318639363964375, 0.488776411114669, 0.674489750196082,\n",
    "                     0.887146559018876, 1.15034938037601, 1.53412054435255]),\n",
    "        17: np.array([-np.inf, -1.5647264713618, -1.18683143275582,\n",
    "                     -0.928899491647271, -0.721522283982343,\n",
    "                     -0.541395085129088, -0.377391943828554,\n",
    "                     -0.223007830940367, -0.0737912738082727,\n",
    "                     0.0737912738082727, 0.223007830940367, 0.377391943828554,\n",
    "                     0.541395085129088, 0.721522283982343, 0.928899491647271,\n",
    "                     1.18683143275582, 1.5647264713618]),\n",
    "        18: np.array([-np.inf, -1.59321881802305, -1.22064034884735,\n",
    "                     -0.967421566101701, -0.764709673786387,\n",
    "                     -0.589455797849779, -0.430727299295457,\n",
    "                     -0.282216147062508, -0.139710298881862, 0,\n",
    "                     0.139710298881862, 0.282216147062508, 0.430727299295457,\n",
    "                     0.589455797849779, 0.764709673786387, 0.967421566101701,\n",
    "                     1.22064034884735, 1.59321881802305]),\n",
    "        19: np.array([-np.inf, -1.61985625863827, -1.25211952026522,\n",
    "                     -1.00314796766253, -0.8045963803603, -0.633640000779701,\n",
    "                     -0.47950565333095, -0.336038140371823, -0.199201324789267,\n",
    "                     -0.0660118123758407, 0.0660118123758406,\n",
    "                     0.199201324789267, 0.336038140371823, 0.47950565333095,\n",
    "                     0.633640000779701, 0.8045963803603, 1.00314796766253,\n",
    "                     1.25211952026522, 1.61985625863827]),\n",
    "        20: np.array([-np.inf, -1.64485362695147, -1.2815515655446,\n",
    "                     -1.03643338949379, -0.841621233572914, -0.674489750196082,\n",
    "                     -0.524400512708041, -0.385320466407568, -0.2533471031358,\n",
    "                     -0.125661346855074, 0, 0.125661346855074, 0.2533471031358,\n",
    "                     0.385320466407568, 0.524400512708041, 0.674489750196082,\n",
    "                     0.841621233572914, 1.03643338949379, 1.2815515655446,\n",
    "                     1.64485362695147]),\n",
    "    }\n",
    "    \n",
    "    return options[a_size]"
   ]
  },
  {
   "cell_type": "code",
   "execution_count": 9,
   "metadata": {},
   "outputs": [
    {
     "data": {
      "text/plain": [
       "array([      -inf, -0.4307273,  0.4307273])"
      ]
     },
     "execution_count": 9,
     "metadata": {},
     "output_type": "execute_result"
    }
   ],
   "source": [
    "cuts_for_asize(3)"
   ]
  },
  {
   "cell_type": "code",
   "execution_count": null,
   "metadata": {
    "collapsed": true
   },
   "outputs": [],
   "source": []
  },
  {
   "cell_type": "code",
   "execution_count": null,
   "metadata": {
    "collapsed": true
   },
   "outputs": [],
   "source": []
  },
  {
   "cell_type": "code",
   "execution_count": 8,
   "metadata": {},
   "outputs": [
    {
     "data": {
      "text/plain": [
       "'/home/psenin/git/saxpy/jupyter'"
      ]
     },
     "execution_count": 8,
     "metadata": {},
     "output_type": "execute_result"
    }
   ],
   "source": [
    "os.getcwd()"
   ]
  },
  {
   "cell_type": "code",
   "execution_count": 2,
   "metadata": {},
   "outputs": [
    {
     "data": {
      "text/plain": [
       "['',\n",
       " '/home/psenin/anaconda3/lib/python36.zip',\n",
       " '/home/psenin/anaconda3/lib/python3.6',\n",
       " '/home/psenin/anaconda3/lib/python3.6/lib-dynload',\n",
       " '/home/psenin/anaconda3/lib/python3.6/site-packages',\n",
       " '/home/psenin/anaconda3/lib/python3.6/site-packages/IPython/extensions',\n",
       " '/home/psenin/.ipython',\n",
       " '..']"
      ]
     },
     "execution_count": 2,
     "metadata": {},
     "output_type": "execute_result"
    }
   ],
   "source": [
    "sys.path"
   ]
  }
 ],
 "metadata": {
  "kernelspec": {
   "display_name": "Python 2",
   "language": "python",
   "name": "python2"
  },
  "language_info": {
   "codemirror_mode": {
    "name": "ipython",
    "version": 2
   },
   "file_extension": ".py",
   "mimetype": "text/x-python",
   "name": "python",
   "nbconvert_exporter": "python",
   "pygments_lexer": "ipython2",
   "version": "2.7.12"
  }
 },
 "nbformat": 4,
 "nbformat_minor": 2
}
