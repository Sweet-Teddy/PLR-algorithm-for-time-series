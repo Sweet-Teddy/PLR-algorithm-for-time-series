{
 "cells": [
  {
   "cell_type": "code",
   "execution_count": 1,
   "metadata": {},
   "outputs": [
    {
     "data": {
      "text/plain": [
       "'/home/psenin/git/saxpy/jupyter'"
      ]
     },
     "execution_count": 1,
     "metadata": {},
     "output_type": "execute_result"
    }
   ],
   "source": [
    "import os \n",
    "os.getcwd()"
   ]
  },
  {
   "cell_type": "code",
   "execution_count": 2,
   "metadata": {
    "collapsed": true
   },
   "outputs": [],
   "source": [
    "os.chdir(\"/home/psenin/git/saxpy\")\n",
    "import numpy as np\n",
    "from saxpy.strfunc import idx2letter \n",
    "from saxpy.znorm import znorm\n",
    "from saxpy.paa import paa\n",
    "from saxpy.alphabet import cuts_for_asize\n",
    "from saxpy.sax import sax_via_window"
   ]
  },
  {
   "cell_type": "code",
   "execution_count": 12,
   "metadata": {},
   "outputs": [
    {
     "data": {
      "text/plain": [
       "defaultdict(list,\n",
       "            {'aac': [4, 10, 11, 30, 35],\n",
       "             'abc': [12, 14, 36, 44],\n",
       "             'acb': [5, 16, 21, 37, 43],\n",
       "             'acc': [13, 52, 53],\n",
       "             'bac': [3, 19, 34, 45, 51],\n",
       "             'bba': [31],\n",
       "             'bbb': [15, 18, 20, 22, 25, 26, 27, 28, 29, 41, 42, 46],\n",
       "             'bbc': [2],\n",
       "             'bca': [6, 17, 32, 38, 47, 48],\n",
       "             'caa': [8, 23, 24, 40],\n",
       "             'cab': [9, 50],\n",
       "             'cba': [7, 39, 49],\n",
       "             'cbb': [33],\n",
       "             'cca': [0, 1]})"
      ]
     },
     "execution_count": 12,
     "metadata": {},
     "output_type": "execute_result"
    }
   ],
   "source": [
    "dat = np.array([0., 0., 0., 0., 0., -0.270340178359072, -0.367828308500142,\n",
    "                0.666980581124872, 1.87088147328446, 2.14548907684624,\n",
    "                -0.480859313143032, -0.72911654245842, -0.490308602315934,\n",
    "                -0.66152028906509, -0.221049033806403, 0.367003418871239,\n",
    "                0.631073992586373, 0.0487728723414486, 0.762655178750436,\n",
    "                0.78574757843331, 0.338239686422963, 0.784206454089066,\n",
    "                -2.14265084073625, 2.11325193044223, 0.186018356196443,\n",
    "                0., 0., 0., 0., 0., 0., 0., 0., 0., 0., 0.519132472499234,\n",
    "                -2.604783141655, -0.244519550114012, -1.6570790528784,\n",
    "                3.34184602886343, 2.10361226260999, 1.9796808733979,\n",
    "                -0.822247322003058, 1.06850578033292, -0.678811824405992,\n",
    "                0.804225748913681, 0.57363964388698, 0.437113583759113,\n",
    "                0.437208643628268, 0.989892093383503, 1.76545983424176,\n",
    "                0.119483882364649, -0.222311941138971, -0.74669456611669,\n",
    "                -0.0663660879732063, 0., 0., 0., 0., 0.,])\n",
    "\n",
    "sax1 = sax_via_window(dat, 6, 3, 3, \"none\", 0.01)\n",
    "\n",
    "sax1"
   ]
  },
  {
   "cell_type": "code",
   "execution_count": 5,
   "metadata": {},
   "outputs": [
    {
     "data": {
      "text/plain": [
       "array([      -inf, -0.4307273,  0.4307273])"
      ]
     },
     "execution_count": 5,
     "metadata": {},
     "output_type": "execute_result"
    }
   ],
   "source": [
    "from saxpy.znorm import znorm\n",
    "from saxpy.alphabet import cuts_for_asize\n",
    "cuts_for_asize(3)"
   ]
  },
  {
   "cell_type": "code",
   "execution_count": 9,
   "metadata": {},
   "outputs": [
    {
     "data": {
      "text/plain": [
       "'acb'"
      ]
     },
     "execution_count": 9,
     "metadata": {},
     "output_type": "execute_result"
    }
   ],
   "source": [
    "from saxpy.znorm import znorm\n",
    "from saxpy.paa import paa\n",
    "from saxpy.sax import ts_to_string\n",
    "ts_to_string(paa(znorm(np.array([-2, 0, 2, 0, -1])), 3), cuts_for_asize(3))"
   ]
  },
  {
   "cell_type": "code",
   "execution_count": 11,
   "metadata": {},
   "outputs": [
    {
     "data": {
      "text/plain": [
       "'acb'"
      ]
     },
     "execution_count": 11,
     "metadata": {},
     "output_type": "execute_result"
    }
   ],
   "source": [
    "import numpy as np\n",
    "from saxpy.alphabet import cuts_for_asize\n",
    "from saxpy.znorm import znorm\n",
    "from saxpy.paa import paa\n",
    "from saxpy.sax import ts_to_string\n",
    "\n",
    "dat = np.array([-2, 0, 2, 0, -1])\n",
    "dat_znorm = znorm(dat)\n",
    "dat_paa_3 = paa(dat_znorm, 3)\n",
    "\n",
    "ts_to_string(dat_paa_3, cuts_for_asize(3))"
   ]
  },
  {
   "cell_type": "code",
   "execution_count": null,
   "metadata": {
    "collapsed": true
   },
   "outputs": [],
   "source": []
  },
  {
   "cell_type": "code",
   "execution_count": null,
   "metadata": {
    "collapsed": true
   },
   "outputs": [],
   "source": []
  },
  {
   "cell_type": "code",
   "execution_count": null,
   "metadata": {
    "collapsed": true
   },
   "outputs": [],
   "source": []
  },
  {
   "cell_type": "code",
   "execution_count": 4,
   "metadata": {},
   "outputs": [
    {
     "data": {
      "image/png": "[encoded data removed]",
      "text/plain": [
       "<matplotlib.figure.Figure at 0x7f8c980ac828>"
      ]
     },
     "metadata": {},
     "output_type": "display_data"
    }
   ],
   "source": [
    "import matplotlib.pyplot as plt\n",
    "plt.plot(dat)\n",
    "plt.show()"
   ]
  },
  {
   "cell_type": "code",
   "execution_count": 5,
   "metadata": {},
   "outputs": [
    {
     "data": {
      "text/plain": [
       "defaultdict(list,\n",
       "            {'aac': [4, 10, 11, 30, 35],\n",
       "             'abc': [12, 14, 36, 44],\n",
       "             'acb': [5, 16, 21, 37, 43],\n",
       "             'acc': [13, 52, 53],\n",
       "             'bac': [3, 19, 34, 45, 51],\n",
       "             'bba': [31],\n",
       "             'bbb': [15, 18, 20, 22, 25, 26, 27, 28, 29, 41, 42, 46],\n",
       "             'bbc': [2],\n",
       "             'bca': [6, 17, 32, 38, 47, 48],\n",
       "             'caa': [8, 23, 24, 40],\n",
       "             'cab': [9, 50],\n",
       "             'cba': [7, 39, 49],\n",
       "             'cbb': [33],\n",
       "             'cca': [0, 1]})"
      ]
     },
     "execution_count": 5,
     "metadata": {},
     "output_type": "execute_result"
    }
   ],
   "source": [
    "saxpy.ts_to_string()"
   ]
  },
  {
   "cell_type": "code",
   "execution_count": 7,
   "metadata": {},
   "outputs": [
    {
     "data": {
      "text/plain": [
       "[0, 1]"
      ]
     },
     "execution_count": 7,
     "metadata": {},
     "output_type": "execute_result"
    }
   ],
   "source": [
    "sax1['cca']"
   ]
  },
  {
   "cell_type": "code",
   "execution_count": 14,
   "metadata": {},
   "outputs": [
    {
     "data": {
      "text/plain": [
       "54"
      ]
     },
     "execution_count": 14,
     "metadata": {},
     "output_type": "execute_result"
    }
   ],
   "source": [
    "elements_num = 0\n",
    "for key in sax1:\n",
    "    elements_num += len(sax1[key])\n",
    "elements_num    "
   ]
  },
  {
   "cell_type": "code",
   "execution_count": 16,
   "metadata": {},
   "outputs": [
    {
     "data": {
      "text/plain": [
       "defaultdict(list,\n",
       "            {'aac': [4, 10, 30, 35],\n",
       "             'abc': [12, 14, 36, 44],\n",
       "             'acb': [5, 16, 21, 37, 43],\n",
       "             'acc': [13, 52],\n",
       "             'bac': [3, 19, 34, 45, 51],\n",
       "             'bba': [31],\n",
       "             'bbb': [15, 18, 20, 22, 25, 41, 46],\n",
       "             'bbc': [2],\n",
       "             'bca': [6, 17, 32, 38, 47],\n",
       "             'caa': [8, 23, 40],\n",
       "             'cab': [9, 50],\n",
       "             'cba': [7, 39, 49],\n",
       "             'cbb': [33],\n",
       "             'cca': [0]})"
      ]
     },
     "execution_count": 16,
     "metadata": {},
     "output_type": "execute_result"
    }
   ],
   "source": [
    "sax_exact = sax_via_window(dat, 6, 3, 3, \"exact\", 0.01)\n",
    "sax_exact"
   ]
  },
  {
   "cell_type": "code",
   "execution_count": 17,
   "metadata": {},
   "outputs": [
    {
     "data": {
      "text/plain": [
       "defaultdict(list,\n",
       "            {'aac': [10, 30],\n",
       "             'acb': [21, 37, 43],\n",
       "             'acc': [13, 52],\n",
       "             'bac': [19, 34, 45],\n",
       "             'bba': [31],\n",
       "             'bbc': [2],\n",
       "             'bca': [6, 17, 47],\n",
       "             'caa': [8, 23],\n",
       "             'cab': [50],\n",
       "             'cba': [39],\n",
       "             'cca': [0]})"
      ]
     },
     "execution_count": 17,
     "metadata": {},
     "output_type": "execute_result"
    }
   ],
   "source": [
    "sax_mindist = sax_via_window(dat, 6, 3, 3, \"mindist\", 0.01)\n",
    "sax_mindist"
   ]
  }
 ],
 "metadata": {
  "kernelspec": {
   "display_name": "Python 2",
   "language": "python",
   "name": "python2"
  },
  "language_info": {
   "codemirror_mode": {
    "name": "ipython",
    "version": 2
   },
   "file_extension": ".py",
   "mimetype": "text/x-python",
   "name": "python",
   "nbconvert_exporter": "python",
   "pygments_lexer": "ipython2",
   "version": "2.7.12"
  }
 },
 "nbformat": 4,
 "nbformat_minor": 2
}
