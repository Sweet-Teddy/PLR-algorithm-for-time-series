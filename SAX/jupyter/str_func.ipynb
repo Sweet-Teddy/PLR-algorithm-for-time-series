{
 "cells": [
  {
   "cell_type": "code",
   "execution_count": 1,
   "metadata": {},
   "outputs": [
    {
     "data": {
      "text/plain": [
       "'/home/psenin/git/saxpy/jupyter'"
      ]
     },
     "execution_count": 1,
     "metadata": {},
     "output_type": "execute_result"
    }
   ],
   "source": [
    "import os \n",
    "os.getcwd()"
   ]
  },
  {
   "cell_type": "code",
   "execution_count": 2,
   "metadata": {},
   "outputs": [],
   "source": [
    "os.chdir(\"/home/psenin/git/saxpy\")\n",
    "import numpy as np\n",
    "from saxpy.strfunc import idx2letter \n",
    "from saxpy.znorm import znorm\n",
    "from saxpy.paa import paa\n",
    "from saxpy.alphabet import cuts_for_asize"
   ]
  },
  {
   "cell_type": "code",
   "execution_count": 3,
   "metadata": {},
   "outputs": [],
   "source": [
    "from saxpy.sax import sax_by_chunking\n",
    "dat1 = np.array([2.02, 2.33, 2.99, 6.85, 9.2, 8.8, 7.5, 6, 5.85,\n",
    "          3.85, 4.85, 3.85, 2.22, 1.45, 1.34])\n",
    "dats1_9_7 = \"bcggfddba\"\n",
    "dats1_10_11 = \"bcjkiheebb\"\n",
    "dats1_14_10 = \"bcdijjhgfeecbb\""
   ]
  },
  {
   "cell_type": "code",
   "execution_count": 4,
   "metadata": {},
   "outputs": [
    {
     "data": {
      "text/plain": [
       "'bcggfddba'"
      ]
     },
     "execution_count": 4,
     "metadata": {},
     "output_type": "execute_result"
    }
   ],
   "source": [
    "sax_by_chunking(dat1, 9, 7)"
   ]
  },
  {
   "cell_type": "code",
   "execution_count": null,
   "metadata": {
    "collapsed": true
   },
   "outputs": [],
   "source": [
    "dats1_9_7 <- \"bcggfddba\"\n",
    "dats1_10_11 <- \"bcjkiheebb\"\n",
    "dats1_14_10 <- \"bcdijjhgfeecbb\"\n",
    "\n",
    "test_that(\"points to letters, i.e. SAX, CPP #2\", {\n",
    "  str1_10_11 <- paste( matrix(unlist(sax_by_chunking(dat1, 10, 11, 0.01)),\n",
    "                             nrow = 10, byrow = T)[,1], collapse = \"\")\n",
    "  str1_14_10 <- paste( matrix(unlist(sax_by_chunking(dat1, 14, 10, 0.01)),\n",
    "                             nrow = 14, byrow = T)[,1], collapse = \"\")\n",
    "  str1_9_7 <- paste( matrix(unlist(sax_by_chunking(dat1, 9, 7, 0.01)),\n",
    "                             nrow = 9, byrow = T)[,1], collapse = \"\")\n",
    "  expect_equal(str1_10_11, dats1_10_11)\n",
    "  expect_equal(str1_14_10, dats1_14_10)\n",
    "  expect_equal(str1_9_7, dats1_9_7)\n",
    "})"
   ]
  },
  {
   "cell_type": "code",
   "execution_count": null,
   "metadata": {
    "collapsed": true
   },
   "outputs": [],
   "source": []
  }
 ],
 "metadata": {
  "kernelspec": {
   "display_name": "Python 3",
   "language": "python",
   "name": "python3"
  },
  "language_info": {
   "codemirror_mode": {
    "name": "ipython",
    "version": 3
   },
   "file_extension": ".py",
   "mimetype": "text/x-python",
   "name": "python",
   "nbconvert_exporter": "python",
   "pygments_lexer": "ipython3",
   "version": "3.7.3"
  }
 },
 "nbformat": 4,
 "nbformat_minor": 2
}
