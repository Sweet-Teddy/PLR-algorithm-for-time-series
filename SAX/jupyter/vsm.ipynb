{
 "cells": [
  {
   "cell_type": "code",
   "execution_count": 1,
   "metadata": {},
   "outputs": [
    {
     "data": {
      "text/plain": [
       "'C:\\\\Users\\\\ng6e164\\\\PycharmProjects\\\\saxpy'"
      ]
     },
     "execution_count": 1,
     "metadata": {},
     "output_type": "execute_result"
    }
   ],
   "source": [
    "import os \n",
    "#os.chdir(\"/home/psenin/git/saxpy\")\n",
    "os.chdir('C:/Users/ng6e164/PycharmProjects/saxpy')\n",
    "os.getcwd()"
   ]
  },
  {
   "cell_type": "code",
   "execution_count": 2,
   "metadata": {
    "collapsed": true
   },
   "outputs": [],
   "source": [
    "import numpy as np\n",
    "from saxpy.sax import sax_via_window\n",
    "from saxpy.saxvsm import series_to_wordbag\n",
    "from saxpy.saxvsm import manyseries_to_wordbag\n",
    "from saxpy.saxvsm import bags_to_tfidf\n",
    "from saxpy.saxvsm import cosine_similarity\n",
    "from saxpy.saxvsm import class_for_bag\n"
   ]
  },
  {
   "cell_type": "code",
   "execution_count": null,
   "metadata": {
    "collapsed": true
   },
   "outputs": [],
   "source": []
  },
  {
   "cell_type": "code",
   "execution_count": 3,
   "metadata": {},
   "outputs": [
    {
     "data": {
      "text/plain": [
       "\"{'bag1': {'this': 10, 'is': 1, 'a': 2, 'sample': 1}, 'bag2': {'this': 10, 'is': 1, 'another': 2, 'example': 3}}\""
      ]
     },
     "execution_count": 3,
     "metadata": {},
     "output_type": "execute_result"
    }
   ],
   "source": [
    "bag1 = { \"this\": 10, \"is\": 1, \"a\": 2, \"sample\": 1}\n",
    "bag2 = { \"this\": 10, \"is\": 1, \"another\": 2, \"example\": 3}\n",
    "bags = {\"bag1\":bag1, \"bag2\":bag2}\n",
    "str(bags)"
   ]
  },
  {
   "cell_type": "code",
   "execution_count": 4,
   "metadata": {},
   "outputs": [
    {
     "data": {
      "text/plain": [
       "['bag1', 'bag2']"
      ]
     },
     "execution_count": 4,
     "metadata": {},
     "output_type": "execute_result"
    }
   ],
   "source": [
    "[*bags.copy()]"
   ]
  },
  {
   "cell_type": "code",
   "execution_count": 5,
   "metadata": {},
   "outputs": [
    {
     "data": {
      "text/plain": [
       "{'classes': ['bag1', 'bag2'],\n",
       " 'vectors': {'a': [0.76150001041880899, 0.0],\n",
       "  'another': [0.0, 0.76150001041880899],\n",
       "  'example': [0.0, 0.96090602783640278],\n",
       "  'sample': [0.48045301391820139, 0.0]}}"
      ]
     },
     "execution_count": 5,
     "metadata": {},
     "output_type": "execute_result"
    }
   ],
   "source": [
    "res = bags_to_tfidf(bags)\n",
    "res"
   ]
  },
  {
   "cell_type": "code",
   "execution_count": 6,
   "metadata": {},
   "outputs": [
    {
     "data": {
      "text/plain": [
       "{'a': [0.76150001041880899, 0.0],\n",
       " 'another': [0.0, 0.76150001041880899],\n",
       " 'example': [0.0, 0.96090602783640278],\n",
       " 'sample': [0.48045301391820139, 0.0]}"
      ]
     },
     "execution_count": 6,
     "metadata": {},
     "output_type": "execute_result"
    }
   ],
   "source": [
    "res[\"vectors\"]"
   ]
  },
  {
   "cell_type": "code",
   "execution_count": 7,
   "metadata": {},
   "outputs": [],
   "source": [
    "from saxpy.util import read_ucr_data\n",
    "dd = read_ucr_data('resources/data/cbf/CBF_TRAIN')"
   ]
  },
  {
   "cell_type": "code",
   "execution_count": 8,
   "metadata": {},
   "outputs": [
    {
     "name": "stdout",
     "output_type": "stream",
     "text": [
      "1\n",
      "3\n",
      "2\n"
     ]
    }
   ],
   "source": [
    "win = 30\n",
    "paa = 6\n",
    "alp = 6\n",
    "na_strategy = \"exact\"\n",
    "ztresh = 0.01\n",
    "\n",
    "bags = {}\n",
    "\n",
    "for key, arr in dd.items():\n",
    "    print(key)\n",
    "    bags[key] = manyseries_to_wordbag(dd[key], win, paa, alp, na_strategy, ztresh)\n"
   ]
  },
  {
   "cell_type": "code",
   "execution_count": 9,
   "metadata": {},
   "outputs": [
    {
     "data": {
      "text/plain": [
       "['1', '3', '2']"
      ]
     },
     "execution_count": 9,
     "metadata": {},
     "output_type": "execute_result"
    }
   ],
   "source": [
    "[*bags.copy()]"
   ]
  },
  {
   "cell_type": "code",
   "execution_count": 10,
   "metadata": {},
   "outputs": [
    {
     "data": {
      "text/plain": [
       "['1', '3', '2']"
      ]
     },
     "execution_count": 10,
     "metadata": {},
     "output_type": "execute_result"
    }
   ],
   "source": [
    "vectors = bags_to_tfidf(bags)\n",
    "vectors['classes']"
   ]
  },
  {
   "cell_type": "code",
   "execution_count": null,
   "metadata": {
    "collapsed": true
   },
   "outputs": [],
   "source": []
  },
  {
   "cell_type": "code",
   "execution_count": null,
   "metadata": {
    "collapsed": true
   },
   "outputs": [],
   "source": []
  },
  {
   "cell_type": "code",
   "execution_count": 11,
   "metadata": {},
   "outputs": [],
   "source": [
    "dt = read_ucr_data('resources/data/cbf/CBF_TEST')"
   ]
  },
  {
   "cell_type": "code",
   "execution_count": 12,
   "metadata": {},
   "outputs": [
    {
     "data": {
      "image/png": "[encoded data removed]",
      "text/plain": [
       "<matplotlib.figure.Figure at 0x59af7b8>"
      ]
     },
     "metadata": {},
     "output_type": "display_data"
    }
   ],
   "source": [
    "import matplotlib.pyplot as plt\n",
    "import datetime\n",
    "import numpy as np\n",
    "\n",
    "series = dt['1'][6]\n",
    "x = np.arange(0, len(series))\n",
    "y = np.asarray(series)\n",
    "\n",
    "plt.plot(x,y)\n",
    "plt.show()"
   ]
  },
  {
   "cell_type": "code",
   "execution_count": 13,
   "metadata": {
    "collapsed": true
   },
   "outputs": [],
   "source": [
    "test_bag = series_to_wordbag(series, 30, 6, 6, \"exact\", 0.01)\n",
    "#test_bag"
   ]
  },
  {
   "cell_type": "code",
   "execution_count": 14,
   "metadata": {},
   "outputs": [
    {
     "data": {
      "text/plain": [
       "{'1': 0.8096998752732335, '2': 0.91433733786773486, '3': 0.95867368251031904}"
      ]
     },
     "execution_count": 14,
     "metadata": {},
     "output_type": "execute_result"
    }
   ],
   "source": [
    "res = cosine_similarity(vectors, test_bag)\n",
    "res"
   ]
  },
  {
   "cell_type": "code",
   "execution_count": 15,
   "metadata": {},
   "outputs": [
    {
     "data": {
      "text/plain": [
       "'1'"
      ]
     },
     "execution_count": 15,
     "metadata": {},
     "output_type": "execute_result"
    }
   ],
   "source": [
    "class_for_bag(res)"
   ]
  },
  {
   "cell_type": "code",
   "execution_count": 16,
   "metadata": {},
   "outputs": [
    {
     "name": "stdout",
     "output_type": "stream",
     "text": [
      "2\n",
      "1\n",
      " misclassified 72 as 2 {'1': 0.92853215910979048, '3': 0.94644982977028103, '2': 0.90361918327181945}\n",
      " misclassified 91 as 2 {'1': 0.89773989722580827, '3': 0.95640189691324418, '2': 0.89753754493831839}\n",
      " misclassified 256 as 2 {'1': 0.93156990542330831, '3': 0.94594144806166813, '2': 0.90273991600777048}\n",
      "3\n",
      " misclassified 223 as 1 {'1': 0.86883795152559462, '3': 0.89417006609748306, '2': 0.98599573407109053}\n"
     ]
    }
   ],
   "source": [
    "for cls in [*dt.copy()]:\n",
    "    print(cls)\n",
    "    i = 0\n",
    "    for s in dt[cls]:\n",
    "        sim = cosine_similarity(vectors, \n",
    "                                series_to_wordbag(s, 30, 6, 6, \"none\", 0.01))\n",
    "        res = class_for_bag(sim)\n",
    "        if res != cls:\n",
    "            print(\" misclassified\", i, \"as\", res, sim)\n",
    "        i = i + 1\n",
    "        "
   ]
  },
  {
   "cell_type": "code",
   "execution_count": 17,
   "metadata": {},
   "outputs": [
    {
     "data": {
      "image/png": "[encoded data removed]",
      "text/plain": [
       "<matplotlib.figure.Figure at 0x84dfc50>"
      ]
     },
     "metadata": {},
     "output_type": "display_data"
    }
   ],
   "source": [
    "series = dt['1'][72]\n",
    "x = np.arange(0, len(series))\n",
    "y = np.asarray(series)\n",
    "plt.plot(x,y)\n",
    "plt.show()"
   ]
  },
  {
   "cell_type": "code",
   "execution_count": 18,
   "metadata": {},
   "outputs": [
    {
     "data": {
      "image/png": "[encoded data removed]",
      "text/plain": [
       "<matplotlib.figure.Figure at 0x854de80>"
      ]
     },
     "metadata": {},
     "output_type": "display_data"
    }
   ],
   "source": [
    "series = dt['3'][223]\n",
    "x = np.arange(0, len(series))\n",
    "y = np.asarray(series)\n",
    "plt.plot(x,y)\n",
    "plt.show()"
   ]
  },
  {
   "cell_type": "code",
   "execution_count": 20,
   "metadata": {},
   "outputs": [],
   "source": [
    "train = read_ucr_data('resources/data/cbf/CBF_TRAIN')\n",
    "test = read_ucr_data('resources/data/cbf/CBF_TEST')\n",
    "\n",
    "win = 30\n",
    "paa = 6\n",
    "alp = 6\n",
    "na_strategy = \"exact\"\n",
    "zthresh = 0.01\n",
    "\n",
    "def test_accuracy(dd_train, dd_test, sax_win, sax_paa, sax_alp, sax_strategy, z_threshold):\n",
    "    \n",
    "    train_bags = {}\n",
    "    for key, arr in dd_train.items():\n",
    "        train_bags[key] = manyseries_to_wordbag(dd[key], sax_win, sax_paa,\n",
    "                                                sax_alp, sax_strategy, z_threshold)\n",
    "    \n",
    "    tfidf_vectors = bags_to_tfidf(train_bags)\n",
    "\n",
    "    correct = 0\n",
    "    count = 0\n",
    "\n",
    "    for cls in [*dd_test.copy()]:\n",
    "        for s in dd_test[cls]:\n",
    "            sim = cosine_similarity(tfidf_vectors, \n",
    "                                    series_to_wordbag(s, sax_win, sax_paa,\n",
    "                                                      sax_alp, sax_strategy, z_threshold))\n",
    "            res = class_for_bag(sim)\n",
    "            if res == cls:\n",
    "                correct = correct + 1\n",
    "            count = count + 1\n",
    "    \n",
    "    return correct / count"
   ]
  },
  {
   "cell_type": "code",
   "execution_count": 21,
   "metadata": {},
   "outputs": [
    {
     "data": {
      "text/plain": [
       "0.9944444444444445"
      ]
     },
     "execution_count": 21,
     "metadata": {},
     "output_type": "execute_result"
    }
   ],
   "source": [
    "test_accuracy(train, test, win, paa, alp, na_strategy, zthresh)"
   ]
  },
  {
   "cell_type": "code",
   "execution_count": null,
   "metadata": {
    "collapsed": true
   },
   "outputs": [],
   "source": []
  },
  {
   "cell_type": "code",
   "execution_count": null,
   "metadata": {
    "collapsed": true
   },
   "outputs": [],
   "source": []
  }
 ],
 "metadata": {
  "kernelspec": {
   "display_name": "Python 3",
   "language": "python",
   "name": "python3"
  },
  "language_info": {
   "codemirror_mode": {
    "name": "ipython",
    "version": 3
   },
   "file_extension": ".py",
   "mimetype": "text/x-python",
   "name": "python",
   "nbconvert_exporter": "python",
   "pygments_lexer": "ipython3",
   "version": "3.7.3"
  }
 },
 "nbformat": 4,
 "nbformat_minor": 2
}
